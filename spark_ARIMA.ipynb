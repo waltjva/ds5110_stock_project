{
 "cells": [
  {
   "cell_type": "code",
   "execution_count": 1,
   "metadata": {},
   "outputs": [],
   "source": [
    "from pyspark.sql import SparkSession\n",
    "import os\n",
    "from pyspark.sql.functions import col, asc\n",
    "import pyspark.sql.functions as F\n",
    "import pandas as pd\n",
    "import matplotlib.pyplot as plt\n",
    "import numpy as np\n",
    "\n",
    "spark = SparkSession.builder \\\n",
    "        .master(\"local[*]\") \\\n",
    "        .appName(\"data_processing\") \\\n",
    "        .getOrCreate()\n",
    "sc = spark.sparkContext"
   ]
  },
  {
   "cell_type": "code",
   "execution_count": 2,
   "metadata": {},
   "outputs": [],
   "source": [
    "stocks = spark.read.csv('/project/ds5559/group4folder/Data/Stocks/', header = True, inferSchema=True).withColumn(\"stock\", F.input_file_name())\n",
    "stocks = stocks.withColumn('high_low_diff', stocks.High-stocks.Low)\n",
    "stocks = stocks.withColumn(\"stock\", F.split(\"stock\",\"/\"))\n",
    "stocks = stocks.withColumn(\"stock\", stocks.stock.getItem(F.size(\"stock\")-1))\n",
    "stocks = stocks.withColumn(\"stock\", F.split(\"stock\", '\\.').getItem(0))\n",
    "\n",
    "stocks = stocks.filter(stocks.stock!='drys')\n",
    "# stocks.show()"
   ]
  },
  {
   "cell_type": "code",
   "execution_count": 3,
   "metadata": {},
   "outputs": [],
   "source": [
    "max_stocks = stocks.filter(stocks.Date=='2017-11-10').select('stock')\n",
    "min_stocks = stocks.filter(stocks.Date=='1990-12-10').select('stock')\n",
    "\n",
    "min_stocks = [i.__getitem__('stock') for i in min_stocks.collect()]\n",
    "max_stocks = [i.__getitem__('stock') for i in max_stocks.collect()]\n",
    "\n",
    "stocks_to_use = stocks.filter(stocks.stock.isin(max_stocks) & stocks.stock.isin(min_stocks))\n",
    "stocks_to_use = stocks_to_use.filter(stocks.Date>='1990-12-10')"
   ]
  },
  {
   "cell_type": "code",
   "execution_count": 4,
   "metadata": {},
   "outputs": [],
   "source": [
    "stocks_to_use.createOrReplaceTempView(\"stocks\")\n",
    "\n",
    "sql = \"SELECT stock, Date as ds, Close as y FROM stocks ORDER BY stock, ds\"\n",
    "stock_part = (spark.sql(sql).repartition(spark.sparkContext.defaultParallelism, ['stock'])).cache()"
   ]
  },
  {
   "cell_type": "code",
   "execution_count": 5,
   "metadata": {},
   "outputs": [],
   "source": [
    "# https://stackoverflow.com/questions/71203431/error-loading-dataframe-to-bigquery-table-pyarrow-lib-arrowtypeerror-object-of\n",
    "from pyspark.sql.types import *\n",
    "result_schema = StructType([\n",
    "                  StructField('stock', StringType()),\n",
    "                  StructField('MSE', DoubleType())\n",
    "            ])"
   ]
  },
  {
   "cell_type": "code",
   "execution_count": null,
   "metadata": {},
   "outputs": [],
   "source": [
    "stock_part.show(10)"
   ]
  },
  {
   "cell_type": "code",
   "execution_count": 6,
   "metadata": {},
   "outputs": [],
   "source": [
    "# from pyspark.sql.functions import pandas_udf, PandasUDFType\n",
    "# from pmdarima.arima import auto_arima\n",
    "# import pandas as pd\n",
    "\n",
    "# @pandas_udf(result_schema, PandasUDFType.GROUPED_MAP)\n",
    "# def forecast_stock(stock_pd):\n",
    "    \n",
    "#     stock_pd.set_index('ds',inplace=True)\n",
    "    \n",
    "#     train = stock_pd.y[:-10]\n",
    "#     test = stock_pd.y[-10:]\n",
    "\n",
    "#     arima_model = auto_arima(train, start_p=0, d=1, start_q=0,\n",
    "#             max_p=2, max_d=1, max_q=2, start_P=0,\n",
    "#             D=1, start_Q=0, max_P=2, max_D=2,\n",
    "#             max_Q=5, m=12, seasonal=True,\n",
    "#             error_action='warn',trace = True,\n",
    "#             supress_warnings=True, stepwise = True,\n",
    "#             random_state=20,n_fits = 50 )\n",
    "    \n",
    "#     prediction = pd.DataFrame(arima_model.predict(n_periods = 10), index=test.index)\n",
    "#     # MSE = ((prediction[0] - test)**2).mean()\n",
    "    \n",
    "#     result_pd = prediction.rename({0:'y_hat'},axis=1)\n",
    "#     result_pd['y'] = test\n",
    "#     result_pd['stock'] = stock_pd['stock'].iloc[0]\n",
    "    \n",
    "#     result_pd = result_pd.reset_index()\n",
    "    \n",
    "#     # https://stackoverflow.com/questions/59845208/pyspark-pyarrow-lib-arrowtypeerror-an-integer-is-required-got-type-timestamp\n",
    "#     result_pd['ds'] = pd.to_datetime(result_pd.ds)\n",
    "    \n",
    "#     result_pd['squared_error'] = (result_pd['y'] - result_pd['y_hat'])**2\n",
    "    \n",
    "#     mse = result_pd.groupby('stock').mean()['squared_error']\n",
    "    \n",
    "#     mse = mse.reset_index()\n",
    "#     mse.rename({'squared_error':'MSE'},axis=1,inplace=True)\n",
    "    \n",
    "#     mse = mse.sort_values(by = 'MSE', ascending=False)\n",
    "    \n",
    "#     return mse\n",
    "\n",
    "# results1 = stock_part.groupby('stock').apply(forecast_stock)\n",
    "# results1.cache()\n",
    "# results1.orderBy(results1.MSE, ascending=False).show()"
   ]
  },
  {
   "cell_type": "code",
   "execution_count": 7,
   "metadata": {},
   "outputs": [],
   "source": [
    "from pyspark.sql.types import *\n",
    "result_schema = StructType([\n",
    "                  StructField('ds', TimestampType()),\n",
    "                  StructField('stock', StringType()),\n",
    "                  StructField('y', DoubleType()),\n",
    "                  StructField('y_hat', DoubleType())\n",
    "])"
   ]
  },
  {
   "cell_type": "code",
   "execution_count": 8,
   "metadata": {},
   "outputs": [],
   "source": [
    "from pyspark.sql.functions import pandas_udf, PandasUDFType\n",
    "from pmdarima.arima import auto_arima\n",
    "import pandas as pd\n",
    "\n",
    "# # https://medium.com/towards-data-science/machine-learning-part-19-time-series-and-autoregressive-integrated-moving-average-model-arima-c1005347b0d7\n",
    "# # https://machinelearningmastery.com/make-sample-forecasts-arima-python/\n",
    "# # https://towardsdatascience.com/time-series-forecasting-using-auto-arima-in-python-bb83e49210cd\n",
    "\n",
    "@pandas_udf(result_schema, PandasUDFType.GROUPED_MAP)\n",
    "def forecast_stock(stock_pd):\n",
    "    \n",
    "    stock_pd.set_index('ds',inplace=True)\n",
    "    \n",
    "    train = stock_pd.y[:-5]\n",
    "    test = stock_pd.y[-5:]\n",
    "    # borrowed directly from the auto-arima medium article written by Sushmitha Pulagam\n",
    "    arima_model = auto_arima(train, start_p=0, d=1, start_q=0,\n",
    "            max_p=1, max_d=1, max_q=1, start_P=0,\n",
    "            D=1, start_Q=0, max_P=1, max_D=1,\n",
    "            max_Q=5, m=12, seasonal=True,\n",
    "            error_action='warn',trace = True,\n",
    "            supress_warnings=True, stepwise = True,\n",
    "            random_state=20,n_fits = 50 )\n",
    "    \n",
    "    prediction = pd.DataFrame(arima_model.predict(n_periods = 5), index=test.index)\n",
    "    # MSE = ((prediction[0] - test)**2).mean()\n",
    "    \n",
    "    result_pd = prediction.rename({0:'y_hat'},axis=1)\n",
    "    result_pd['y'] = test\n",
    "    result_pd['stock'] = stock_pd['stock'].iloc[0]\n",
    "    \n",
    "    result_pd = result_pd.reset_index()\n",
    "    \n",
    "    # https://stackoverflow.com/questions/59845208/pyspark-pyarrow-lib-arrowtypeerror-an-integer-is-required-got-type-timestamp\n",
    "    result_pd['ds'] = pd.to_datetime(result_pd.ds)\n",
    "    \n",
    "    return result_pd"
   ]
  },
  {
   "cell_type": "code",
   "execution_count": 9,
   "metadata": {},
   "outputs": [
    {
     "name": "stderr",
     "output_type": "stream",
     "text": [
      "/usr/local/spark/python/pyspark/sql/pandas/group_ops.py:84: UserWarning: It is preferred to use 'applyInPandas' over this API. This API will be deprecated in the future releases. See SPARK-28264 for more details.\n",
      "  \"more details.\", UserWarning)\n"
     ]
    },
    {
     "name": "stdout",
     "output_type": "stream",
     "text": [
      "+-----+--------------------+\n",
      "|stock|                 MSE|\n",
      "+-----+--------------------+\n",
      "|  avp|0.010319093590561278|\n",
      "|  abx|0.011756680065030542|\n",
      "|  pgr|0.017827850434356755|\n",
      "|  tkf|  0.0293119016900948|\n",
      "|  uis| 0.02957331497772072|\n",
      "|   gt|0.031475959690598576|\n",
      "|   ni|0.038632136368114016|\n",
      "|  exc|0.047285360264716504|\n",
      "| gntx| 0.04882993940832579|\n",
      "|  cnp|  0.0491835727387909|\n",
      "+-----+--------------------+\n",
      "only showing top 10 rows\n",
      "\n"
     ]
    }
   ],
   "source": [
    "import pyspark.sql.functions as F\n",
    "# from pyspark.sql.functions import current_date\n",
    "results1 = stock_part.groupby('stock').apply(forecast_stock)\n",
    "results1.cache()\n",
    "res1 = results1.withColumn(\"Squared_Error\", (results1.y - results1.y_hat)**2)\n",
    "res1.cache()\n",
    "# res_pandas = res1.toPandas()\n",
    "res2 = res1.groupBy('stock').agg(F.mean('Squared_Error').alias('MSE')).orderBy('MSE')\n",
    "res2.cache()\n",
    "res2.show(10)\n",
    "\n",
    "# res1.createOrReplaceTempView(\"all_stocks\")\n",
    "# query = ('select stock, avg(Squared_Error) as mse from all_stocks group by stock order by mse desc limit 10')\n",
    "# res2 = spark.sql(query)\n",
    "\n",
    "# res2.write.csv(\"../../project/ds5559/group4folder/ds5110_stock_project/all_stocks.csv\")\n",
    "\n",
    "# res2.orderBy(res2.mse, ascending=False).show(10)"
   ]
  },
  {
   "cell_type": "code",
   "execution_count": 11,
   "metadata": {},
   "outputs": [
    {
     "name": "stdout",
     "output_type": "stream",
     "text": [
      "+-----------------+\n",
      "|      Average_MSE|\n",
      "+-----------------+\n",
      "|7.835037839675834|\n",
      "+-----------------+\n",
      "\n"
     ]
    }
   ],
   "source": [
    "res2.filter(res2.stock != 'brk-a').agg(F.mean('MSE').alias('Average_MSE')).show()"
   ]
  },
  {
   "cell_type": "code",
   "execution_count": 12,
   "metadata": {},
   "outputs": [
    {
     "name": "stdout",
     "output_type": "stream",
     "text": [
      "+-------------------+-----+------+------------------+--------------------+\n",
      "|                 ds|stock|     y|             y_hat|       Squared_Error|\n",
      "+-------------------+-----+------+------------------+--------------------+\n",
      "|2017-11-06 00:00:00| adbe| 180.8|191.80064618013017|  121.01421638041231|\n",
      "|2017-11-07 00:00:00| adbe|180.89|193.39011081142718|  156.25277029795896|\n",
      "|2017-11-08 00:00:00| adbe|184.06|192.85149116912527|   77.29031697680753|\n",
      "|2017-11-09 00:00:00| adbe|181.92|192.99920291852115|  122.74873730976783|\n",
      "|2017-11-10 00:00:00| adbe|181.72|193.32553631880745|  134.68847324715884|\n",
      "|2017-11-06 00:00:00|  bax| 64.36| 64.43290311005222|0.005314863455286611|\n",
      "|2017-11-07 00:00:00|  bax| 64.32| 64.63295122266699| 0.09793846776876766|\n",
      "|2017-11-08 00:00:00|  bax| 65.01| 64.80273471590051|0.042958897992843116|\n",
      "|2017-11-09 00:00:00|  bax| 65.39| 65.01772569478524|  0.1385881583231317|\n",
      "|2017-11-10 00:00:00|  bax| 64.04| 64.30227764606018| 0.06878956362286376|\n",
      "+-------------------+-----+------+------------------+--------------------+\n",
      "only showing top 10 rows\n",
      "\n"
     ]
    }
   ],
   "source": [
    "res1.show(10)"
   ]
  },
  {
   "cell_type": "code",
   "execution_count": 14,
   "metadata": {},
   "outputs": [
    {
     "name": "stdout",
     "output_type": "stream",
     "text": [
      "+-------------------+-----+------+------------------+--------------------+\n",
      "|                 ds|stock|     y|             y_hat|       Squared_Error|\n",
      "+-------------------+-----+------+------------------+--------------------+\n",
      "|2017-11-06 00:00:00| adbe| 180.8|191.80064618013017|  121.01421638041231|\n",
      "|2017-11-07 00:00:00| adbe|180.89|193.39011081142718|  156.25277029795896|\n",
      "|2017-11-08 00:00:00| adbe|184.06|192.85149116912527|   77.29031697680753|\n",
      "|2017-11-09 00:00:00| adbe|181.92|192.99920291852115|  122.74873730976783|\n",
      "|2017-11-10 00:00:00| adbe|181.72|193.32553631880745|  134.68847324715884|\n",
      "|2017-11-06 00:00:00|  bax| 64.36| 64.43290311005222|0.005314863455286611|\n",
      "|2017-11-07 00:00:00|  bax| 64.32| 64.63295122266699| 0.09793846776876766|\n",
      "|2017-11-08 00:00:00|  bax| 65.01| 64.80273471590051|0.042958897992843116|\n",
      "|2017-11-09 00:00:00|  bax| 65.39| 65.01772569478524|  0.1385881583231317|\n",
      "|2017-11-10 00:00:00|  bax| 64.04| 64.30227764606018| 0.06878956362286376|\n",
      "+-------------------+-----+------+------------------+--------------------+\n",
      "only showing top 10 rows\n",
      "\n"
     ]
    }
   ],
   "source": [
    "res1.show(10)"
   ]
  },
  {
   "cell_type": "code",
   "execution_count": 25,
   "metadata": {},
   "outputs": [
    {
     "name": "stdout",
     "output_type": "stream",
     "text": [
      "1220\n",
      "1220\n"
     ]
    }
   ],
   "source": [
    "final_df = res1.filter(res1.stock != 'brk-a').toPandas()\n",
    "final_df = final_df.set_index('ds')\n",
    "print(len(final_df))\n",
    "final_df = final_df[final_df.index.dayofweek < 5]\n",
    "print(len(final_df))"
   ]
  },
  {
   "cell_type": "code",
   "execution_count": null,
   "metadata": {},
   "outputs": [],
   "source": []
  },
  {
   "cell_type": "code",
   "execution_count": 17,
   "metadata": {},
   "outputs": [
    {
     "data": {
      "image/png": "[encoded data removed]",
      "text/plain": [
       "<Figure size 640x480 with 1 Axes>"
      ]
     },
     "metadata": {},
     "output_type": "display_data"
    }
   ],
   "source": [
    "final_df.query(\"stock=='abt'\")[['y_hat']].plot()\n",
    "plt.show()"
   ]
  },
  {
   "cell_type": "code",
   "execution_count": 18,
   "metadata": {},
   "outputs": [
    {
     "data": {
      "image/png": "[encoded data removed]",
      "text/plain": [
       "<Figure size 640x480 with 1 Axes>"
      ]
     },
     "metadata": {},
     "output_type": "display_data"
    }
   ],
   "source": [
    "final_df.query(\"stock=='aapl'\")[['y','y_hat']].plot()\n",
    "plt.show()"
   ]
  },
  {
   "cell_type": "code",
   "execution_count": 20,
   "metadata": {},
   "outputs": [
    {
     "data": {
      "text/html": [
       "<div>\n",
       "<style scoped>\n",
       "    .dataframe tbody tr th:only-of-type {\n",
       "        vertical-align: middle;\n",
       "    }\n",
       "\n",
       "    .dataframe tbody tr th {\n",
       "        vertical-align: top;\n",
       "    }\n",
       "\n",
       "    .dataframe thead th {\n",
       "        text-align: right;\n",
       "    }\n",
       "</style>\n",
       "<table border=\"1\" class=\"dataframe\">\n",
       "  <thead>\n",
       "    <tr style=\"text-align: right;\">\n",
       "      <th></th>\n",
       "      <th>stock</th>\n",
       "      <th>y</th>\n",
       "      <th>y_hat</th>\n",
       "      <th>Squared_Error</th>\n",
       "    </tr>\n",
       "    <tr>\n",
       "      <th>ds</th>\n",
       "      <th></th>\n",
       "      <th></th>\n",
       "      <th></th>\n",
       "      <th></th>\n",
       "    </tr>\n",
       "  </thead>\n",
       "  <tbody>\n",
       "    <tr>\n",
       "      <th>2017-11-06</th>\n",
       "      <td>adbe</td>\n",
       "      <td>180.80</td>\n",
       "      <td>191.800646</td>\n",
       "      <td>121.014216</td>\n",
       "    </tr>\n",
       "    <tr>\n",
       "      <th>2017-11-07</th>\n",
       "      <td>adbe</td>\n",
       "      <td>180.89</td>\n",
       "      <td>193.390111</td>\n",
       "      <td>156.252770</td>\n",
       "    </tr>\n",
       "    <tr>\n",
       "      <th>2017-11-08</th>\n",
       "      <td>adbe</td>\n",
       "      <td>184.06</td>\n",
       "      <td>192.851491</td>\n",
       "      <td>77.290317</td>\n",
       "    </tr>\n",
       "    <tr>\n",
       "      <th>2017-11-09</th>\n",
       "      <td>adbe</td>\n",
       "      <td>181.92</td>\n",
       "      <td>192.999203</td>\n",
       "      <td>122.748737</td>\n",
       "    </tr>\n",
       "    <tr>\n",
       "      <th>2017-11-10</th>\n",
       "      <td>adbe</td>\n",
       "      <td>181.72</td>\n",
       "      <td>193.325536</td>\n",
       "      <td>134.688473</td>\n",
       "    </tr>\n",
       "  </tbody>\n",
       "</table>\n",
       "</div>"
      ],
      "text/plain": [
       "           stock       y       y_hat  Squared_Error\n",
       "ds                                                 \n",
       "2017-11-06  adbe  180.80  191.800646     121.014216\n",
       "2017-11-07  adbe  180.89  193.390111     156.252770\n",
       "2017-11-08  adbe  184.06  192.851491      77.290317\n",
       "2017-11-09  adbe  181.92  192.999203     122.748737\n",
       "2017-11-10  adbe  181.72  193.325536     134.688473"
      ]
     },
     "execution_count": 20,
     "metadata": {},
     "output_type": "execute_result"
    }
   ],
   "source": [
    "final_df.head()"
   ]
  },
  {
   "cell_type": "code",
   "execution_count": 26,
   "metadata": {},
   "outputs": [],
   "source": [
    "new = final_df.loc[final_df.index>'2017-11-05']\n",
    "# new['squared_error'] = (new['y'] - new['y_hat'])**2\n",
    "stock_mse = new.groupby('stock')['Squared_Error'].mean()"
   ]
  },
  {
   "cell_type": "code",
   "execution_count": 27,
   "metadata": {},
   "outputs": [
    {
     "data": {
      "text/html": [
       "<div>\n",
       "<style scoped>\n",
       "    .dataframe tbody tr th:only-of-type {\n",
       "        vertical-align: middle;\n",
       "    }\n",
       "\n",
       "    .dataframe tbody tr th {\n",
       "        vertical-align: top;\n",
       "    }\n",
       "\n",
       "    .dataframe thead th {\n",
       "        text-align: right;\n",
       "    }\n",
       "</style>\n",
       "<table border=\"1\" class=\"dataframe\">\n",
       "  <thead>\n",
       "    <tr style=\"text-align: right;\">\n",
       "      <th></th>\n",
       "      <th>stock</th>\n",
       "      <th>y</th>\n",
       "      <th>y_hat</th>\n",
       "      <th>Squared_Error</th>\n",
       "    </tr>\n",
       "    <tr>\n",
       "      <th>ds</th>\n",
       "      <th></th>\n",
       "      <th></th>\n",
       "      <th></th>\n",
       "      <th></th>\n",
       "    </tr>\n",
       "  </thead>\n",
       "  <tbody>\n",
       "    <tr>\n",
       "      <th>2017-11-07</th>\n",
       "      <td>adbe</td>\n",
       "      <td>180.89</td>\n",
       "      <td>193.390111</td>\n",
       "      <td>156.252770</td>\n",
       "    </tr>\n",
       "    <tr>\n",
       "      <th>2017-11-08</th>\n",
       "      <td>hum</td>\n",
       "      <td>243.48</td>\n",
       "      <td>259.291146</td>\n",
       "      <td>249.992342</td>\n",
       "    </tr>\n",
       "    <tr>\n",
       "      <th>2017-11-09</th>\n",
       "      <td>hum</td>\n",
       "      <td>247.46</td>\n",
       "      <td>260.214060</td>\n",
       "      <td>162.666047</td>\n",
       "    </tr>\n",
       "    <tr>\n",
       "      <th>2017-11-10</th>\n",
       "      <td>hum</td>\n",
       "      <td>244.39</td>\n",
       "      <td>258.027852</td>\n",
       "      <td>185.991003</td>\n",
       "    </tr>\n",
       "    <tr>\n",
       "      <th>2017-11-09</th>\n",
       "      <td>gww</td>\n",
       "      <td>204.79</td>\n",
       "      <td>192.417974</td>\n",
       "      <td>153.067038</td>\n",
       "    </tr>\n",
       "    <tr>\n",
       "      <th>2017-11-10</th>\n",
       "      <td>gww</td>\n",
       "      <td>203.48</td>\n",
       "      <td>190.601054</td>\n",
       "      <td>165.867253</td>\n",
       "    </tr>\n",
       "    <tr>\n",
       "      <th>2017-11-09</th>\n",
       "      <td>mmm</td>\n",
       "      <td>228.39</td>\n",
       "      <td>242.504415</td>\n",
       "      <td>199.216698</td>\n",
       "    </tr>\n",
       "    <tr>\n",
       "      <th>2017-11-10</th>\n",
       "      <td>mmm</td>\n",
       "      <td>227.45</td>\n",
       "      <td>244.134219</td>\n",
       "      <td>278.363147</td>\n",
       "    </tr>\n",
       "    <tr>\n",
       "      <th>2017-11-07</th>\n",
       "      <td>shw</td>\n",
       "      <td>394.01</td>\n",
       "      <td>406.918393</td>\n",
       "      <td>166.626619</td>\n",
       "    </tr>\n",
       "    <tr>\n",
       "      <th>2017-11-08</th>\n",
       "      <td>shw</td>\n",
       "      <td>395.51</td>\n",
       "      <td>408.067871</td>\n",
       "      <td>157.700116</td>\n",
       "    </tr>\n",
       "    <tr>\n",
       "      <th>2017-11-09</th>\n",
       "      <td>shw</td>\n",
       "      <td>387.03</td>\n",
       "      <td>410.996080</td>\n",
       "      <td>574.372987</td>\n",
       "    </tr>\n",
       "    <tr>\n",
       "      <th>2017-11-10</th>\n",
       "      <td>shw</td>\n",
       "      <td>389.46</td>\n",
       "      <td>412.165703</td>\n",
       "      <td>515.548957</td>\n",
       "    </tr>\n",
       "    <tr>\n",
       "      <th>2017-11-10</th>\n",
       "      <td>tmo</td>\n",
       "      <td>186.18</td>\n",
       "      <td>199.762997</td>\n",
       "      <td>184.497815</td>\n",
       "    </tr>\n",
       "  </tbody>\n",
       "</table>\n",
       "</div>"
      ],
      "text/plain": [
       "           stock       y       y_hat  Squared_Error\n",
       "ds                                                 \n",
       "2017-11-07  adbe  180.89  193.390111     156.252770\n",
       "2017-11-08   hum  243.48  259.291146     249.992342\n",
       "2017-11-09   hum  247.46  260.214060     162.666047\n",
       "2017-11-10   hum  244.39  258.027852     185.991003\n",
       "2017-11-09   gww  204.79  192.417974     153.067038\n",
       "2017-11-10   gww  203.48  190.601054     165.867253\n",
       "2017-11-09   mmm  228.39  242.504415     199.216698\n",
       "2017-11-10   mmm  227.45  244.134219     278.363147\n",
       "2017-11-07   shw  394.01  406.918393     166.626619\n",
       "2017-11-08   shw  395.51  408.067871     157.700116\n",
       "2017-11-09   shw  387.03  410.996080     574.372987\n",
       "2017-11-10   shw  389.46  412.165703     515.548957\n",
       "2017-11-10   tmo  186.18  199.762997     184.497815"
      ]
     },
     "execution_count": 27,
     "metadata": {},
     "output_type": "execute_result"
    }
   ],
   "source": [
    "new[new.Squared_Error>new.Squared_Error.quantile(.99)]"
   ]
  },
  {
   "cell_type": "code",
   "execution_count": 29,
   "metadata": {},
   "outputs": [
    {
     "data": {
      "text/plain": [
       "-0.009236068998007805"
      ]
     },
     "execution_count": 29,
     "metadata": {},
     "output_type": "execute_result"
    }
   ],
   "source": [
    "new = final_df.loc[final_df.index>'2017-11-05'].reset_index()\n",
    "new = new.loc[new.ds=='2017-11-6'].set_index(['stock']).join(new.loc[new.ds=='2017-11-10',['stock','y_hat','y']].set_index(['stock']).rename({'y_hat':'yhatFinal','y':'yFinal'},axis=1))\n",
    "new['predicted_gain'] = (new.yhatFinal-new.y_hat)/new.y_hat\n",
    "new['gain'] = (new.yFinal-new.y)/new.y\n",
    "new.sort_values(by='predicted_gain',ascending=False).head(50)['gain'].mean()"
   ]
  },
  {
   "cell_type": "code",
   "execution_count": 30,
   "metadata": {},
   "outputs": [
    {
     "data": {
      "text/html": [
       "<div>\n",
       "<style scoped>\n",
       "    .dataframe tbody tr th:only-of-type {\n",
       "        vertical-align: middle;\n",
       "    }\n",
       "\n",
       "    .dataframe tbody tr th {\n",
       "        vertical-align: top;\n",
       "    }\n",
       "\n",
       "    .dataframe thead th {\n",
       "        text-align: right;\n",
       "    }\n",
       "</style>\n",
       "<table border=\"1\" class=\"dataframe\">\n",
       "  <thead>\n",
       "    <tr style=\"text-align: right;\">\n",
       "      <th></th>\n",
       "      <th>ds</th>\n",
       "      <th>y</th>\n",
       "      <th>y_hat</th>\n",
       "      <th>Squared_Error</th>\n",
       "      <th>yhatFinal</th>\n",
       "      <th>yFinal</th>\n",
       "      <th>predicted_gain</th>\n",
       "      <th>gain</th>\n",
       "    </tr>\n",
       "    <tr>\n",
       "      <th>stock</th>\n",
       "      <th></th>\n",
       "      <th></th>\n",
       "      <th></th>\n",
       "      <th></th>\n",
       "      <th></th>\n",
       "      <th></th>\n",
       "      <th></th>\n",
       "      <th></th>\n",
       "    </tr>\n",
       "  </thead>\n",
       "  <tbody>\n",
       "    <tr>\n",
       "      <th>mmm</th>\n",
       "      <td>2017-11-06</td>\n",
       "      <td>230.31</td>\n",
       "      <td>233.663528</td>\n",
       "      <td>11.246148</td>\n",
       "      <td>244.134219</td>\n",
       "      <td>227.45</td>\n",
       "      <td>0.044811</td>\n",
       "      <td>-0.012418</td>\n",
       "    </tr>\n",
       "    <tr>\n",
       "      <th>vfc</th>\n",
       "      <td>2017-11-06</td>\n",
       "      <td>69.07</td>\n",
       "      <td>69.824967</td>\n",
       "      <td>0.569975</td>\n",
       "      <td>72.775770</td>\n",
       "      <td>69.63</td>\n",
       "      <td>0.042260</td>\n",
       "      <td>0.008108</td>\n",
       "    </tr>\n",
       "    <tr>\n",
       "      <th>jcp</th>\n",
       "      <td>2017-11-06</td>\n",
       "      <td>2.53</td>\n",
       "      <td>2.349661</td>\n",
       "      <td>0.032522</td>\n",
       "      <td>2.431694</td>\n",
       "      <td>3.17</td>\n",
       "      <td>0.034913</td>\n",
       "      <td>0.252964</td>\n",
       "    </tr>\n",
       "    <tr>\n",
       "      <th>dov</th>\n",
       "      <td>2017-11-06</td>\n",
       "      <td>96.12</td>\n",
       "      <td>94.200640</td>\n",
       "      <td>3.683941</td>\n",
       "      <td>97.304208</td>\n",
       "      <td>93.79</td>\n",
       "      <td>0.032946</td>\n",
       "      <td>-0.024241</td>\n",
       "    </tr>\n",
       "    <tr>\n",
       "      <th>avy</th>\n",
       "      <td>2017-11-06</td>\n",
       "      <td>107.07</td>\n",
       "      <td>107.135070</td>\n",
       "      <td>0.004234</td>\n",
       "      <td>110.526533</td>\n",
       "      <td>105.19</td>\n",
       "      <td>0.031656</td>\n",
       "      <td>-0.017559</td>\n",
       "    </tr>\n",
       "    <tr>\n",
       "      <th>...</th>\n",
       "      <td>...</td>\n",
       "      <td>...</td>\n",
       "      <td>...</td>\n",
       "      <td>...</td>\n",
       "      <td>...</td>\n",
       "      <td>...</td>\n",
       "      <td>...</td>\n",
       "      <td>...</td>\n",
       "    </tr>\n",
       "    <tr>\n",
       "      <th>ge</th>\n",
       "      <td>2017-11-06</td>\n",
       "      <td>20.13</td>\n",
       "      <td>20.485447</td>\n",
       "      <td>0.126343</td>\n",
       "      <td>18.755657</td>\n",
       "      <td>20.49</td>\n",
       "      <td>-0.084440</td>\n",
       "      <td>0.017884</td>\n",
       "    </tr>\n",
       "    <tr>\n",
       "      <th>odp</th>\n",
       "      <td>2017-11-06</td>\n",
       "      <td>3.22</td>\n",
       "      <td>3.240424</td>\n",
       "      <td>0.000417</td>\n",
       "      <td>2.886395</td>\n",
       "      <td>3.27</td>\n",
       "      <td>-0.109254</td>\n",
       "      <td>0.015528</td>\n",
       "    </tr>\n",
       "    <tr>\n",
       "      <th>mbi</th>\n",
       "      <td>2017-11-06</td>\n",
       "      <td>6.71</td>\n",
       "      <td>6.888108</td>\n",
       "      <td>0.031722</td>\n",
       "      <td>6.019021</td>\n",
       "      <td>8.90</td>\n",
       "      <td>-0.126172</td>\n",
       "      <td>0.326379</td>\n",
       "    </tr>\n",
       "    <tr>\n",
       "      <th>itus</th>\n",
       "      <td>2017-11-06</td>\n",
       "      <td>2.48</td>\n",
       "      <td>2.203340</td>\n",
       "      <td>0.076541</td>\n",
       "      <td>1.899821</td>\n",
       "      <td>2.41</td>\n",
       "      <td>-0.137754</td>\n",
       "      <td>-0.028226</td>\n",
       "    </tr>\n",
       "    <tr>\n",
       "      <th>teva</th>\n",
       "      <td>2017-11-06</td>\n",
       "      <td>12.41</td>\n",
       "      <td>11.734909</td>\n",
       "      <td>0.455748</td>\n",
       "      <td>9.707663</td>\n",
       "      <td>11.78</td>\n",
       "      <td>-0.172753</td>\n",
       "      <td>-0.050766</td>\n",
       "    </tr>\n",
       "  </tbody>\n",
       "</table>\n",
       "<p>244 rows × 8 columns</p>\n",
       "</div>"
      ],
      "text/plain": [
       "              ds       y       y_hat  Squared_Error   yhatFinal  yFinal  \\\n",
       "stock                                                                     \n",
       "mmm   2017-11-06  230.31  233.663528      11.246148  244.134219  227.45   \n",
       "vfc   2017-11-06   69.07   69.824967       0.569975   72.775770   69.63   \n",
       "jcp   2017-11-06    2.53    2.349661       0.032522    2.431694    3.17   \n",
       "dov   2017-11-06   96.12   94.200640       3.683941   97.304208   93.79   \n",
       "avy   2017-11-06  107.07  107.135070       0.004234  110.526533  105.19   \n",
       "...          ...     ...         ...            ...         ...     ...   \n",
       "ge    2017-11-06   20.13   20.485447       0.126343   18.755657   20.49   \n",
       "odp   2017-11-06    3.22    3.240424       0.000417    2.886395    3.27   \n",
       "mbi   2017-11-06    6.71    6.888108       0.031722    6.019021    8.90   \n",
       "itus  2017-11-06    2.48    2.203340       0.076541    1.899821    2.41   \n",
       "teva  2017-11-06   12.41   11.734909       0.455748    9.707663   11.78   \n",
       "\n",
       "       predicted_gain      gain  \n",
       "stock                            \n",
       "mmm          0.044811 -0.012418  \n",
       "vfc          0.042260  0.008108  \n",
       "jcp          0.034913  0.252964  \n",
       "dov          0.032946 -0.024241  \n",
       "avy          0.031656 -0.017559  \n",
       "...               ...       ...  \n",
       "ge          -0.084440  0.017884  \n",
       "odp         -0.109254  0.015528  \n",
       "mbi         -0.126172  0.326379  \n",
       "itus        -0.137754 -0.028226  \n",
       "teva        -0.172753 -0.050766  \n",
       "\n",
       "[244 rows x 8 columns]"
      ]
     },
     "execution_count": 30,
     "metadata": {},
     "output_type": "execute_result"
    }
   ],
   "source": [
    "new.sort_values(by='predicted_gain',ascending=False)"
   ]
  },
  {
   "cell_type": "code",
   "execution_count": 32,
   "metadata": {},
   "outputs": [
    {
     "data": {
      "image/png": "[encoded data removed]",
      "text/plain": [
       "<Figure size 640x480 with 1 Axes>"
      ]
     },
     "metadata": {},
     "output_type": "display_data"
    }
   ],
   "source": [
    "import seaborn as sns\n",
    "import matplotlib.pyplot as plt\n",
    "\n",
    "top = new.sort_values(by='predicted_gain',ascending=False).head(10)\n",
    "other = new.sort_values(by='predicted_gain',ascending=False)\n",
    "\n",
    "ax = sns.boxplot(data=[top['gain'].values,other['gain'].values])\n",
    "plt.xticks(np.arange(2), ['Predicted Top 50 Stocks','All Stocks'])\n",
    "plt.ylabel('% Change in Price')\n",
    "plt.title(\"Weekly Gains\")\n",
    "plt.show()"
   ]
  }
 ],
 "metadata": {
  "kernelspec": {
   "display_name": "DS 5110 Spark 3.1",
   "language": "python",
   "name": "ds5110_spark3.1"
  },
  "language_info": {
   "codemirror_mode": {
    "name": "ipython",
    "version": 3
   },
   "file_extension": ".py",
   "mimetype": "text/x-python",
   "name": "python",
   "nbconvert_exporter": "python",
   "pygments_lexer": "ipython3",
   "version": "3.7.10"
  }
 },
 "nbformat": 4,
 "nbformat_minor": 4
}
